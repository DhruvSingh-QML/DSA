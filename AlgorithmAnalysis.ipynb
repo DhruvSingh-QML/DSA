{
 "cells": [
  {
   "cell_type": "markdown",
   "metadata": {},
   "source": [
    "# Algorithm Analysis\n",
    "\n",
    "Algorithm analysis involves understanding how efficient an algorithm is in terms of time and space. Let's expand on some key concepts:\n",
    "\n",
    "## 1. Time Complexity\n",
    "\n",
    "Time complexity measures how the runtime of an algorithm changes with the size of the input data. Common time complexities include:\n",
    "\n",
    "- **O(1):** Constant time - The algorithm's runtime does not change with the input size.\n",
    "\n",
    "- **O(log n):** Logarithmic time - The algorithm's runtime grows logarithmically with the input size.\n",
    "\n",
    "- **O(n):** Linear time - The algorithm's runtime grows linearly with the input size.\n",
    "\n",
    "- **O(n log n):** Linearithmic time - Often seen in efficient sorting algorithms.\n",
    "\n",
    "- **O(n^2):** Quadratic time - The algorithm's runtime grows quadratically with the input size.\n",
    "\n",
    "## 2. Space Complexity\n",
    "\n",
    "Space complexity measures the amount of memory an algorithm uses relative to the input size. It is important to consider both the input and auxiliary space (temporary space used by the algorithm).\n",
    "\n",
    "## 3. Asymptotic Analysis\n",
    "\n",
    "Asymptotic analysis evaluates the performance of algorithms as the input size approaches infinity. It helps to understand the upper bound of the algorithm's growth.\n",
    "\n",
    "## 4. Best, Worst, and Average Case\n",
    "\n",
    "- **Best Case:** The minimum time or space an algorithm requires for the smallest input size.\n",
    "\n",
    "- **Worst Case:** The maximum time or space an algorithm requires for the largest input size.\n",
    "\n",
    "- **Average Case:** The expected time or space an algorithm requires for a random input of a given size.\n",
    "\n",
    "## 5. Amortized Analysis\n",
    "\n",
    "Amortized analysis looks at the average performance of an algorithm over a sequence of operations. It is particularly useful for data structures that have expensive operations that occur infrequently.\n"
   ]
  },
  {
   "cell_type": "markdown",
   "metadata": {},
   "source": []
  }
 ],
 "metadata": {
  "language_info": {
   "name": "python"
  }
 },
 "nbformat": 4,
 "nbformat_minor": 2
}
