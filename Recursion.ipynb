{
 "cells": [
  {
   "cell_type": "markdown",
   "metadata": {},
   "source": [
    "# Recursion\n",
    "**Recursion** is a technique by which a function makes one or more calls to itself\n",
    "during execution, or by which a data structure relies upon smaller instances of\n",
    "the very same type of structure in its representation."
   ]
  },
  {
   "cell_type": "markdown",
   "metadata": {},
   "source": [
    "### Factorial Function\n",
    "n! = n * (n-1) * (n-1) * 3 * 2 * 1, if n >= 1</br>\n",
    "And n! = 1 if n = 0"
   ]
  },
  {
   "cell_type": "code",
   "execution_count": 3,
   "metadata": {},
   "outputs": [
    {
     "name": "stdout",
     "output_type": "stream",
     "text": [
      "120\n"
     ]
    }
   ],
   "source": [
    "def factorial(number):\n",
    "    if number == 1 or number == 1:\n",
    "        return 1\n",
    "    else:\n",
    "        return number * factorial(number -1)\n",
    "    \n",
    "print(factorial(5))"
   ]
  },
  {
   "cell_type": "markdown",
   "metadata": {},
   "source": [
    "### English Ruler\n",
    "It is another example in which we can use recursion\n",
    "So here one line contains L ticks and L-1 ticks sideways like this-\n"
   ]
  },
  {
   "cell_type": "code",
   "execution_count": null,
   "metadata": {},
   "outputs": [],
   "source": [
    "''' \n",
    "---0\n",
    "-\n",
    "--\n",
    "-\n",
    "---1\n",
    "'''\n",
    "# This is our expected output\n",
    "def draw_line(tick_length, tick_label=''):\n",
    "    '''Draws the line'''\n",
    "    line = '-' * tick_length\n",
    "    if tick_label:\n",
    "        line += ' ' + tick_label\n",
    "    print(line)\n",
    "def draw_interval(center_length):\n",
    "    '''Makes the pattern'''\n",
    "    if center_length > 0:\n",
    "        draw_interval(center_length-1)\n",
    "        draw_line(center_length)\n",
    "        draw_interval(center_length-1)\n",
    "def draw_ruler(major_length, num_inches):\n",
    "    '''Draws the ruler'''\n",
    "    draw_line(major_length, '0')\n",
    "    for i in range(1,num_inches+1):\n",
    "        draw_interval(major_length-1)\n",
    "        draw_line(major_length, str(i))\n",
    "draw_ruler(4,3)\n",
    "    "
   ]
  },
  {
   "cell_type": "markdown",
   "metadata": {},
   "source": []
  },
  {
   "cell_type": "markdown",
   "metadata": {},
   "source": [
    "### Binary Search\n",
    "Another example in which the function returns the index of a number in less time using recursion"
   ]
  },
  {
   "cell_type": "code",
   "execution_count": null,
   "metadata": {},
   "outputs": [],
   "source": [
    "'''Have to return the index of the value'''\n",
    "def binary_search(array, number, low = None, high = None):\n",
    "    if low == None and high == None:\n",
    "        low = 0\n",
    "        high = len(array)-1\n",
    "    mid = (low+high)//2\n",
    "    if array[mid] == number:\n",
    "        return mid\n",
    "    else:\n",
    "        if array[mid] > number:\n",
    "            high = mid - 1\n",
    "        else:\n",
    "            low = mid + 1\n",
    "    return binary_search(array, number, low, high)\n",
    "array = [1,2,4,5,7,8,9]\n",
    "number = 2\n",
    "print(binary_search(array,number))"
   ]
  },
  {
   "cell_type": "markdown",
   "metadata": {},
   "source": [
    "### Fibonacci Sequence and Number\n",
    "It is a series where a number in it, sum of two previous fibonnaci numbers"
   ]
  },
  {
   "cell_type": "code",
   "execution_count": null,
   "metadata": {},
   "outputs": [],
   "source": [
    "'''Fibonacci Sequence'''\n",
    "def fibonacci(n):\n",
    "    "
   ]
  }
 ],
 "metadata": {
  "kernelspec": {
   "display_name": "Python 3",
   "language": "python",
   "name": "python3"
  },
  "language_info": {
   "codemirror_mode": {
    "name": "ipython",
    "version": 3
   },
   "file_extension": ".py",
   "mimetype": "text/x-python",
   "name": "python",
   "nbconvert_exporter": "python",
   "pygments_lexer": "ipython3",
   "version": "3.12.3"
  }
 },
 "nbformat": 4,
 "nbformat_minor": 2
}
